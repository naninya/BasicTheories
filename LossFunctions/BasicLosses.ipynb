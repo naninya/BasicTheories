{
 "cells": [
  {
   "cell_type": "markdown",
   "id": "3356d4fd",
   "metadata": {},
   "source": [
    "# Import"
   ]
  },
  {
   "cell_type": "code",
   "execution_count": 1,
   "id": "f30be6a7",
   "metadata": {},
   "outputs": [],
   "source": [
    "# python lib\n",
    "import os\n",
    "import sys\n",
    "import math\n",
    "import numpy as np\n",
    "import random\n",
    "import gast\n",
    "# other lib\n",
    "import matplotlib.pyplot as plt\n",
    "from sklearn.model_selection import train_test_split\n",
    "from tensorflow.keras.losses import Loss\n",
    "import tensorflow.keras.backend as K\n",
    "import tensorflow as tf\n",
    "from tensorflow.keras.layers import Input, Dense, BatchNormalization, Dropout\n",
    "from tensorflow.keras.models import Model, load_model\n",
    "from tensorflow.keras.callbacks import EarlyStopping, ModelCheckpoint\n",
    "\n",
    "util_path = \"../Utils\"\n",
    "random.seed(42)"
   ]
  },
  {
   "cell_type": "markdown",
   "id": "6d3b1986",
   "metadata": {},
   "source": [
    "# Configs"
   ]
  },
  {
   "cell_type": "code",
   "execution_count": 2,
   "id": "55fc4862",
   "metadata": {},
   "outputs": [],
   "source": [
    "CONFIG = {\n",
    "    \"SAMPLE_NUM\":100000,\n",
    "    \"SAMPLE_SPLIT_RATE\":0.2,\n",
    "    \"SAMPLE_RANGE\":(-10, 10)\n",
    "}"
   ]
  },
  {
   "cell_type": "markdown",
   "id": "710bf949",
   "metadata": {},
   "source": [
    "# Ready for dataset"
   ]
  },
  {
   "cell_type": "markdown",
   "id": "8c21e54d",
   "metadata": {},
   "source": [
    "## Target function:\n",
    "\\begin{align*}\n",
    "    f(x) = \\frac{\\sin\\left(\\pi x \\right)}{\\pi x}\n",
    "\\end{align*}\n",
    "\n",
    "in here, \n",
    "$x \\in [-3,3] $, and $\\varepsilon \\sim U(0,1)$    "
   ]
  },
  {
   "cell_type": "code",
   "execution_count": 3,
   "id": "02d92803",
   "metadata": {},
   "outputs": [
    {
     "name": "stdout",
     "output_type": "stream",
     "text": [
      "(90000,) (10000,) (90000,) (10000,)\n"
     ]
    }
   ],
   "source": [
    "def function(x):\n",
    "    return np.sin(np.pi * x) / (np.pi * x)\n",
    "def standardization(x):\n",
    "    return (x - x.mean()) / x.std()\n",
    "gen_x = np.random.uniform(*CONFIG[\"SAMPLE_RANGE\"], CONFIG[\"SAMPLE_NUM\"])\n",
    "gen_x = standardization(gen_x)\n",
    "gen_y = function(gen_x)\n",
    "x_train, x_test, y_train, y_test = train_test_split(gen_x, gen_y, random_state=91, test_size=0.1)\n",
    "print(x_train.shape, x_test.shape, y_train.shape, y_test.shape)"
   ]
  },
  {
   "cell_type": "markdown",
   "id": "18dbec7d",
   "metadata": {},
   "source": [
    "# Define getting result function"
   ]
  },
  {
   "cell_type": "code",
   "execution_count": 4,
   "id": "4d654ae4",
   "metadata": {},
   "outputs": [
    {
     "data": {
      "text/plain": [
       "['Mnist_Resnet101.ipynb']"
      ]
     },
     "execution_count": 4,
     "metadata": {},
     "output_type": "execute_result"
    }
   ],
   "source": [
    "os.listdir(\"../Models\")"
   ]
  },
  {
   "cell_type": "code",
   "execution_count": 5,
   "id": "d46c10fb",
   "metadata": {},
   "outputs": [],
   "source": [
    "def get_result(function_name, loss_function):\n",
    "    inputs = Input(shape=(1))\n",
    "    layer = Dense(8, activation=\"relu\")(inputs)\n",
    "    layer = BatchNormalization()(layer)\n",
    "    layer = Dropout(0.2)(layer)\n",
    "    layer = Dense(4, activation=\"relu\")(layer)\n",
    "    layer = BatchNormalization()(layer)\n",
    "    layer = Dropout(0.2)(layer)\n",
    "    layer = Dense(1)(layer)\n",
    "    model = Model(inputs, layer)\n",
    "    model_path = f\"./{function_name}.h5\"\n",
    "    callbacks = [\n",
    "        EarlyStopping(\n",
    "            monitor=\"val_loss\",\n",
    "            patience=3\n",
    "        ),\n",
    "        ModelCheckpoint(\n",
    "            filepath=model_path,\n",
    "            save_best_only=True,\n",
    "            save_weights_only=True,\n",
    "            verbose=0\n",
    "        )\n",
    "    ]\n",
    "    model.compile(\n",
    "        optimizer=\"adam\",\n",
    "        loss=loss_function,\n",
    "        metrics=[\"mse\"]\n",
    "    )\n",
    "    \n",
    "    model.fit(\n",
    "        x_train,\n",
    "        y_train,\n",
    "        verbose=0,\n",
    "        batch_size=512,\n",
    "        epochs=10,\n",
    "        callbacks=callbacks,\n",
    "        validation_split=0.1\n",
    "    )\n",
    "    model.load_weights(model_path)\n",
    "    pred = model.predict(x_test)\n",
    "    return pred"
   ]
  },
  {
   "cell_type": "markdown",
   "id": "d0189524",
   "metadata": {},
   "source": [
    "# Define loss function"
   ]
  },
  {
   "cell_type": "markdown",
   "id": "8bff446f",
   "metadata": {},
   "source": [
    "## MSE\n",
    "\\begin{align*}\n",
    "    MSE = \\frac{\\sum_{i=1}^{n} (y_{i} - \\hat{y_{i}})^{2}}{n}\n",
    "\\end{align*}\n",
    "\n",
    "## Cross Entropy Loss\n",
    "\\begin{align*}\n",
    "    CE = -\\sum_{i}^{C}t_{i}log(f(s)_{i})\n",
    "\\end{align*}\n",
    "\n",
    "## ArcFaceLoss\n",
    "\\begin{align*}\n",
    "    L_{3} = -\\frac{1}{N}\\sum_{i=1}^{N}log\\frac{e^{s(cos(\\theta_{yi + m}))}}{e^{s(cos(\\theta_{yi + m}))} + \\sum_{j=1, j \\neq y_{i}}e^{scos\\theta_{j}}}\n",
    "\\end{align*}"
   ]
  },
  {
   "cell_type": "code",
   "execution_count": 10,
   "id": "c285dc38",
   "metadata": {},
   "outputs": [],
   "source": [
    "class MSELoss(Loss):\n",
    "    def __init__(self, **kwargs):\n",
    "        super(MSELoss, self).__init__(**kwargs)\n",
    "    def __call__(self, y_true, y_pred, sample_weight=None):\n",
    "        return K.mean(K.square(K.cast_to_floatx(y_true) - K.cast_to_floatx(y_pred)))\n",
    "\n",
    "class CrossEntropyLoss(Loss):\n",
    "    def __init__(self, **kwargs):\n",
    "        super(CrossEntropyLoss, self).__init__(**kwargs)\n",
    "        self.delta = 1e-14\n",
    "    def __call__(self, y_true, y_pred, sample_weight=None):\n",
    "        y_pred = tf.nn.softmax(y_pred)\n",
    "        return K.sum(K.cast_to_floatx(y_true) * K.log(K.l2_normalize(K.cast_to_floatx(y_pred)) + self.delta))\n"
   ]
  },
  {
   "cell_type": "markdown",
   "id": "fa1778bf",
   "metadata": {},
   "source": [
    "# Loss function dict"
   ]
  },
  {
   "cell_type": "code",
   "execution_count": 11,
   "id": "36014efb",
   "metadata": {},
   "outputs": [],
   "source": [
    "loss_function = {\n",
    "    \"MSE\":MSELoss(),\n",
    "    \"CrossEntropyLoss\":CrossEntropyLoss(),\n",
    "}"
   ]
  },
  {
   "cell_type": "markdown",
   "id": "2b454858",
   "metadata": {},
   "source": [
    "# Get result"
   ]
  },
  {
   "cell_type": "code",
   "execution_count": 12,
   "id": "065d6ce8",
   "metadata": {
    "scrolled": true
   },
   "outputs": [
    {
     "name": "stdout",
     "output_type": "stream",
     "text": [
      "313/313 [==============================] - 1s 2ms/step\n",
      "313/313 [==============================] - 1s 2ms/step\n"
     ]
    },
    {
     "data": {
      "image/png": "[encoded data removed]",
      "text/plain": [
       "<Figure size 1296x864 with 2 Axes>"
      ]
     },
     "metadata": {
      "needs_background": "light"
     },
     "output_type": "display_data"
    }
   ],
   "source": [
    "fig = plt.figure(figsize=(18, 6 * len(loss_function)))\n",
    "for index, (function_name, loss_f) in enumerate(loss_function.items()):\n",
    "    ax = fig.add_subplot(len(loss_function), 2, index + 1)\n",
    "    pred = get_result(function_name, loss_f)\n",
    "    ax.scatter(x_test, y_test)\n",
    "    ax.scatter(x_test, pred)\n",
    "    ax.legend([\"ANSWER\", \"PRED\"])\n",
    "    ax.set_title(function_name)"
   ]
  }
 ],
 "metadata": {
  "kernelspec": {
   "display_name": "Python 3 (ipykernel)",
   "language": "python",
   "name": "python3"
  },
  "language_info": {
   "codemirror_mode": {
    "name": "ipython",
    "version": 3
   },
   "file_extension": ".py",
   "mimetype": "text/x-python",
   "name": "python",
   "nbconvert_exporter": "python",
   "pygments_lexer": "ipython3",
   "version": "3.8.13"
  }
 },
 "nbformat": 4,
 "nbformat_minor": 5
}
